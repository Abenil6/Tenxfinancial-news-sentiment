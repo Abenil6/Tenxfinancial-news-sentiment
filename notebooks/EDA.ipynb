{
 "cells": [
  {
   "cell_type": "code",
   "execution_count": null,
   "id": "992e8230",
   "metadata": {
    "vscode": {
     "languageId": "plaintext"
    }
   },
   "outputs": [],
   "source": [
    "import pandas as pd\n",
    "import matplotlib.pyplot as plt\n",
    "import seaborn as sns\n",
    "from wordcloud import WordCloud\n",
    "\n",
    "\n",
    "df = pd.read_csv(\"../AAPL_historical_data.csv\") \n",
    "df = pd.read_csv(\"../data/AMZN_historical_data.csv) \n",
    "df = pd.read_csv(\"../data/GOOG_historical_data.csv\") \n",
    "df = pd.read_csv(\"../data/MSFT_historical_data.csv\") \n",
    "df = pd.read_csv(\"../data/NVDA_historical_data.csv\") \n",
    "df= pd. read_csv(\"../data/TSLA_historical_data.csv)\n",
    "\n",
    "\n",
    "\n",
    "df['date'] = pd.to_datetime(df['date'])\n",
    "\n",
    "# Headline Length\n",
    "df['headline_length'] = df['headline'].apply(len)\n",
    "df['headline_length'].hist(bins=50)\n",
    "plt.title(\"Headline Length Distribution\")\n",
    "plt.xlabel(\"Length\")\n",
    "plt.ylabel(\"Frequency\")\n",
    "plt.show()\n",
    "\n",
    "df['publisher'].value_counts().head(10).plot(kind='bar')\n",
    "plt.title(\"Top 10 Publishers\")\n",
    "plt.ylabel(\"Article Count\")\n",
    "plt.show()\n",
    "\n",
    "\n",
    "df['date'].dt.date.value_counts().sort_index().plot()\n",
    "plt.title(\"Articles Published Over Time\")\n",
    "plt.ylabel(\"Article Count\")\n",
    "plt.xticks(rotation=45)\n",
    "plt.tight_layout()\n",
    "plt.show()\n",
    "\n",
    "\n",
    "from sklearn.feature_extraction.text import CountVectorizer\n",
    "\n",
    "vectorizer = CountVectorizer(stop_words='english', max_features=100)\n",
    "X = vectorizer.fit_transform(df['headline'])\n",
    "word_freq = dict(zip(vectorizer.get_feature_names_out(), X.toarray().sum(axis=0)))\n",
    "\n",
    "wordcloud = WordCloud(width=800, height=400).generate_from_frequencies(word_freq)\n",
    "plt.figure(figsize=(12, 6))\n",
    "plt.imshow(wordcloud, interpolation='bilinear')\n",
    "plt.axis('off')\n",
    "plt.title(\"Most Common Words in Headlines\")\n",
    "plt.show()\n"
   ]
  }
 ],
 "metadata": {
  "language_info": {
   "name": "python"
  }
 },
 "nbformat": 4,
 "nbformat_minor": 5
}
